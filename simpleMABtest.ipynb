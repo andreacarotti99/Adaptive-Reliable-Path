{
 "cells": [
  {
   "cell_type": "code",
   "execution_count": 12,
   "id": "5bc0df91",
   "metadata": {},
   "outputs": [
    {
     "name": "stdout",
     "output_type": "stream",
     "text": [
      "Exploiting: Selected arm 0 with min avg loss\n",
      "Updated losses for arm 0: Total loss = 0.9602702279161014, Pull count = 1.0\n",
      "Exploiting: Selected arm 1 with min avg loss\n",
      "Updated losses for arm 1: Total loss = 0.05996218923446206, Pull count = 1.0\n",
      "Exploiting: Selected arm 2 with min avg loss\n",
      "Updated losses for arm 2: Total loss = 0.11864004806287531, Pull count = 1.0\n",
      "Exploiting: Selected arm 3 with min avg loss\n",
      "Updated losses for arm 3: Total loss = 0.480284135234188, Pull count = 1.0\n",
      "Exploiting: Selected arm 4 with min avg loss\n",
      "Updated losses for arm 4: Total loss = 0.5856872384672509, Pull count = 1.0\n",
      "Exploiting: Selected arm 1 with min avg loss\n",
      "Updated losses for arm 1: Total loss = 1.0430345681882147, Pull count = 2.0\n",
      "Exploiting: Selected arm 2 with min avg loss\n",
      "Updated losses for arm 2: Total loss = 0.8984483904339121, Pull count = 2.0\n",
      "Exploring: Selected arm 3\n",
      "Updated losses for arm 3: Total loss = 1.0244212387826221, Pull count = 2.0\n",
      "Exploring: Selected arm 2\n",
      "Updated losses for arm 2: Total loss = 1.2747072552428027, Pull count = 3.0\n",
      "Exploiting: Selected arm 2 with min avg loss\n",
      "Updated losses for arm 2: Total loss = 2.212586686715779, Pull count = 4.0\n"
     ]
    }
   ],
   "source": [
    "import numpy as np\n",
    "\n",
    "class MAB:\n",
    "    def __init__(self, n_arms, epsilon=0.3):\n",
    "        self.n_arms = n_arms  # Number of arms\n",
    "        self.epsilon = epsilon  # Exploration rate\n",
    "        self.arm_counts = np.zeros(n_arms)  # Count of pulls for each arm\n",
    "        self.arm_loss = np.zeros(n_arms)  # Total loss for each arm\n",
    "\n",
    "    def select_arm(self):\n",
    "        \"\"\"Selects an arm based on the ε-greedy strategy.\"\"\"\n",
    "        if np.random.rand() < self.epsilon:  # Explore\n",
    "            chosen_arm = np.random.randint(self.n_arms)\n",
    "            print(f\"Exploring: Selected arm {chosen_arm}\")\n",
    "        else:  # Exploit\n",
    "            # Select the arm with the minimum average loss\n",
    "            avg_losses = self.arm_loss / (self.arm_counts + 1e-5)  # Adding a small value to avoid division by zero\n",
    "            chosen_arm = np.argmin(avg_losses)\n",
    "            print(f\"Exploiting: Selected arm {chosen_arm} with min avg loss\")\n",
    "        return chosen_arm\n",
    "\n",
    "    def update(self, chosen_arm, loss):\n",
    "        \"\"\"Updates the estimated losses and counts for the chosen arm.\"\"\"\n",
    "        self.arm_counts[chosen_arm] += 1\n",
    "        self.arm_loss[chosen_arm] += loss\n",
    "        print(f\"Updated losses for arm {chosen_arm}: Total loss = {self.arm_loss[chosen_arm]}, Pull count = {self.arm_counts[chosen_arm]}\")\n",
    "\n",
    "# Create the MAB instance with corrections and verbose output\n",
    "n_arms = 5  # For example, setting 5 arms\n",
    "mab = MAB(n_arms=n_arms, epsilon=0.3)\n",
    "\n",
    "# Run a simple test with 10 rounds\n",
    "for _ in range(10):\n",
    "    chosen_arm = mab.select_arm()\n",
    "    # Simulate a loss for the chosen arm. Here, just using a random float as an example.\n",
    "    loss = np.random.random()\n",
    "    mab.update(chosen_arm, loss)\n",
    "\n",
    "    "
   ]
  },
  {
   "cell_type": "code",
   "execution_count": null,
   "id": "1fb05ace",
   "metadata": {},
   "outputs": [],
   "source": []
  }
 ],
 "metadata": {
  "kernelspec": {
   "display_name": "Python 3 (ipykernel)",
   "language": "python",
   "name": "python3"
  },
  "language_info": {
   "codemirror_mode": {
    "name": "ipython",
    "version": 3
   },
   "file_extension": ".py",
   "mimetype": "text/x-python",
   "name": "python",
   "nbconvert_exporter": "python",
   "pygments_lexer": "ipython3",
   "version": "3.9.13"
  }
 },
 "nbformat": 4,
 "nbformat_minor": 5
}
