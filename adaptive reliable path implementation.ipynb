{
 "cells": [
  {
   "cell_type": "markdown",
   "id": "f2fdc307",
   "metadata": {},
   "source": [
    "Initialize the layered graph"
   ]
  },
  {
   "cell_type": "code",
   "execution_count": 95,
   "id": "a55e7de1",
   "metadata": {},
   "outputs": [],
   "source": [
    "def createLayeredGraph(G, H):\n",
    "    V, E = G  # Unpack the original graph\n",
    "    V_prime, E_prime = set(), set()  # Initialize empty sets for the layered graph\n",
    "\n",
    "    # Expand vertices into layers, starting from hop count 0\n",
    "    for v in V:\n",
    "        for i in range(0, H + 1):  # Include H, since we're starting from 0\n",
    "            V_prime.add((v, i))\n",
    "\n",
    "    # Connect vertices across layers based on original edges, considering hop counts\n",
    "    for (u, v) in E:\n",
    "        for i in range(0, H):  # Up to H-1 since we're starting from 0\n",
    "            E_prime.add(((u, i), (v, i + 1)))\n",
    "\n",
    "    return (V_prime, E_prime)  # Return the layered graph"
   ]
  },
  {
   "cell_type": "markdown",
   "id": "2945c292",
   "metadata": {},
   "source": [
    "Test the initialization"
   ]
  },
  {
   "cell_type": "code",
   "execution_count": 96,
   "id": "bc7275a9",
   "metadata": {
    "scrolled": true
   },
   "outputs": [
    {
     "name": "stdout",
     "output_type": "stream",
     "text": [
      "Layered Vertices V':\n",
      " {(0, 1), (1, 2), (2, 1), (0, 0), (3, 1), (1, 1), (2, 0), (3, 0), (0, 2), (2, 2), (1, 0), (3, 2)}\n",
      "Layered Edges E':\n",
      " {((2, 0), (3, 1)), ((1, 1), (3, 2)), ((0, 0), (2, 1)), ((0, 0), (1, 1)), ((0, 1), (1, 2)), ((1, 0), (3, 1)), ((2, 1), (3, 2)), ((0, 1), (2, 2))}\n"
     ]
    }
   ],
   "source": [
    "# Define the original graph G\n",
    "V = {0, 1, 2, 3}\n",
    "E = {(0, 1), (0, 2), (1, 3), (2, 3)}\n",
    "G = (V, E)\n",
    "H = 2\n",
    "\n",
    "# Create the layered graph\n",
    "G_prime = createLayeredGraph(G, H)\n",
    "\n",
    "# Display the results\n",
    "print(\"Layered Vertices V':\\n\", G_prime[0])\n",
    "print(\"Layered Edges E':\\n\", G_prime[1])"
   ]
  },
  {
   "cell_type": "code",
   "execution_count": 97,
   "id": "98c153c5",
   "metadata": {},
   "outputs": [],
   "source": [
    "# Function to add new edges from source to corresponding source nodes and from destination to corresponding destination nodes\n",
    "def add_source_and_dest_to_G_prime(G_prime, source, destination):\n",
    "    \n",
    "    \n",
    "    (V_prime, E_prime) = G_prime\n",
    "    \n",
    "    # We call -1 the new layer introduced to handle source and destination\n",
    "    V_prime.add((source, -1))\n",
    "    V_prime.add((destination, -1))\n",
    "\n",
    "    # Add new edges from source to corresponding source nodes in each layer\n",
    "    for i in range(0, H+1):\n",
    "        E_prime.add(((source, -1), (source, i)))\n",
    "\n",
    "    # Add new edges from destination to corresponding destination nodes in each layer\n",
    "    for i in range(0, H+1):\n",
    "        E_prime.add(((destination, i), (destination, -1)))\n",
    "\n",
    "    return (V_prime, E_prime)"
   ]
  },
  {
   "cell_type": "markdown",
   "id": "6bb52fd7",
   "metadata": {},
   "source": [
    "Test G_prime with also the newly added source and destination"
   ]
  },
  {
   "cell_type": "code",
   "execution_count": 98,
   "id": "408f8d7f",
   "metadata": {},
   "outputs": [
    {
     "name": "stdout",
     "output_type": "stream",
     "text": [
      "Layered Vertices V':\n",
      " {(0, 1), (1, 2), (3, -1), (2, 1), (0, 0), (3, 1), (1, 1), (2, 0), (3, 0), (0, 2), (2, 2), (1, 0), (3, 2), (0, -1)}\n",
      "Layered Edges E':\n",
      " {((2, 0), (3, 1)), ((1, 1), (3, 2)), ((0, 0), (2, 1)), ((3, 0), (3, -1)), ((0, 0), (1, 1)), ((3, 1), (3, -1)), ((3, 2), (3, -1)), ((0, 1), (1, 2)), ((0, -1), (0, 0)), ((0, -1), (0, 2)), ((1, 0), (3, 1)), ((2, 1), (3, 2)), ((0, -1), (0, 1)), ((0, 1), (2, 2))}\n"
     ]
    }
   ],
   "source": [
    "G_prime = add_source_and_dest_to_G_prime(G_prime, 0, 3)\n",
    "\n",
    "# Display the results\n",
    "print(\"Layered Vertices V':\\n\", G_prime[0])\n",
    "print(\"Layered Edges E':\\n\", G_prime[1])"
   ]
  },
  {
   "cell_type": "code",
   "execution_count": 99,
   "id": "770c4c0a",
   "metadata": {},
   "outputs": [],
   "source": [
    "from collections import deque\n",
    "\n",
    "def delete_unreachable_nodes(G_prime, source):\n",
    "    V_prime, E_prime = G_prime  # Unpack the layered graph\n",
    "    reachable_nodes = set()  # Set to keep track of reachable nodes\n",
    "    reachable_edges = set()  # Set to keep track of edges connecting reachable nodes\n",
    "    queue = deque([(source, -1)])  # Initialize a queue with the source node, using deque for efficiency\n",
    "\n",
    "    # Perform a Breadth-First Search (BFS) to find all reachable nodes from the source\n",
    "    while queue:\n",
    "        current_node = queue.popleft()  # Get the first node in the queue efficiently\n",
    "        if current_node not in reachable_nodes:\n",
    "            reachable_nodes.add(current_node)  # Mark the current node as reachable\n",
    "            # Iterate over edges to find and enqueue directly reachable nodes\n",
    "            for (u, v) in E_prime:\n",
    "                if u == current_node:\n",
    "                    reachable_edges.add((u, v))  # Keep track of the reachable edge\n",
    "                    if v not in reachable_nodes and v not in queue:  # Avoid duplicates in the queue\n",
    "                        queue.append(v)\n",
    "\n",
    "    # The filtered graph consists of reachable nodes and edges between them\n",
    "    V_prime_filtered = reachable_nodes\n",
    "    E_prime_filtered = reachable_edges\n",
    "\n",
    "    return (V_prime_filtered, E_prime_filtered)"
   ]
  },
  {
   "cell_type": "code",
   "execution_count": 100,
   "id": "3e6ff6ca",
   "metadata": {},
   "outputs": [
    {
     "name": "stdout",
     "output_type": "stream",
     "text": [
      "Layered Vertices without unreachable nodes V':\n",
      " {(0, 1), (1, 2), (3, -1), (2, 1), (0, 0), (1, 1), (0, 2), (2, 2), (3, 2), (0, -1)}\n",
      "Layered Edges without unreachable nodes E':\n",
      " {((1, 1), (3, 2)), ((0, 0), (2, 1)), ((0, 0), (1, 1)), ((3, 2), (3, -1)), ((0, 1), (1, 2)), ((0, -1), (0, 0)), ((0, -1), (0, 2)), ((2, 1), (3, 2)), ((0, -1), (0, 1)), ((0, 1), (2, 2))}\n"
     ]
    }
   ],
   "source": [
    "G_prime = delete_unreachable_nodes(G_prime, 0)\n",
    "\n",
    "# Display the results\n",
    "print(\"Layered Vertices without unreachable nodes V':\\n\", G_prime[0])\n",
    "print(\"Layered Edges without unreachable nodes E':\\n\", G_prime[1])"
   ]
  },
  {
   "cell_type": "code",
   "execution_count": 101,
   "id": "d3b5d53d",
   "metadata": {},
   "outputs": [],
   "source": [
    "def delete_nodes_not_leading_to_destination(G_prime, destination):\n",
    "    V_prime, E_prime = G_prime  # Unpack the graph into vertices and edges\n",
    "    reachable_nodes = set()  # Set to keep track of nodes leading to the destination\n",
    "    reachable_edges = set()  # Set to keep track of edges leading to the destination\n",
    "    queue = deque([(destination, -1)])  # Initialize a queue with the destination node\n",
    "\n",
    "    # Perform a reverse Breadth-First Search (BFS) from the destination\n",
    "    while queue:\n",
    "        current_node = queue.popleft()  # Get the first node in the queue\n",
    "        if current_node not in reachable_nodes:\n",
    "            reachable_nodes.add(current_node)  # Mark the current node as leading to the destination\n",
    "\n",
    "            # Iterate over edges in reverse to find and enqueue nodes leading to the current node\n",
    "            for (u, v) in E_prime:\n",
    "                if v == current_node:\n",
    "                    reachable_edges.add((u, v))  # Keep track of the edge leading to the destination\n",
    "                    if u not in reachable_nodes and u not in queue:  # Avoid duplicates in the queue\n",
    "                        queue.append(u)\n",
    "\n",
    "    # The filtered graph consists of nodes and edges leading to the destination\n",
    "    V_prime_filtered = reachable_nodes\n",
    "    E_prime_filtered = reachable_edges\n",
    "\n",
    "    return (V_prime_filtered, E_prime_filtered)\n",
    "\n"
   ]
  },
  {
   "cell_type": "code",
   "execution_count": 102,
   "id": "d4c2f738",
   "metadata": {},
   "outputs": [
    {
     "name": "stdout",
     "output_type": "stream",
     "text": [
      "Layered Vertices without unreachable nodes V':\n",
      " {(3, -1), (2, 1), (0, 0), (1, 1), (3, 2), (0, -1)}\n",
      "Layered Edges without unreachable nodes E':\n",
      " {((1, 1), (3, 2)), ((0, 0), (2, 1)), ((3, 2), (3, -1)), ((0, 0), (1, 1)), ((0, -1), (0, 0)), ((2, 1), (3, 2))}\n"
     ]
    }
   ],
   "source": [
    "G_prime = delete_nodes_not_leading_to_destination(G_prime, 3)\n",
    "\n",
    "# Display the results\n",
    "print(\"Layered Vertices without unreachable nodes V':\\n\", G_prime[0])\n",
    "print(\"Layered Edges without unreachable nodes E':\\n\", G_prime[1])"
   ]
  },
  {
   "cell_type": "code",
   "execution_count": 103,
   "id": "26e0bdbf",
   "metadata": {},
   "outputs": [],
   "source": [
    "def assign_incoming_edges(G_prime):\n",
    "    V_prime, E_prime = G_prime\n",
    "    # Initialize a dictionary to hold the list of incoming edges for each node\n",
    "    incoming_edges = {node: [] for node in V_prime}\n",
    "\n",
    "    # Iterate through each edge in E_prime\n",
    "    for (u, v) in E_prime:\n",
    "        # Add the edge to the list of incoming edges for the destination node\n",
    "        if v in incoming_edges:  # Ensure the destination node is in the graph\n",
    "            incoming_edges[v].append((u, v))\n",
    "\n",
    "    return incoming_edges"
   ]
  },
  {
   "cell_type": "code",
   "execution_count": 105,
   "id": "231fd96f",
   "metadata": {},
   "outputs": [
    {
     "name": "stdout",
     "output_type": "stream",
     "text": [
      "Node (3, -1) has incoming edges: [((3, 2), (3, -1))]\n",
      "Node (2, 1) has incoming edges: [((0, 0), (2, 1))]\n",
      "Node (0, 0) has incoming edges: [((0, -1), (0, 0))]\n",
      "Node (1, 1) has incoming edges: [((0, 0), (1, 1))]\n",
      "Node (3, 2) has incoming edges: [((1, 1), (3, 2)), ((2, 1), (3, 2))]\n",
      "Node (0, -1) has incoming edges: []\n"
     ]
    }
   ],
   "source": [
    "# Test assign incoming edges function\n",
    "incoming_edges = assign_incoming_edges(G_prime)\n",
    "\n",
    "for node, edges in incoming_edges.items():\n",
    "    print(f\"Node {node} has incoming edges: {edges}\")"
   ]
  },
  {
   "cell_type": "code",
   "execution_count": null,
   "id": "c9366c57",
   "metadata": {},
   "outputs": [],
   "source": [
    "def is_path_operational(path):\n",
    "    '''randomly returns true with the probability below'''\n",
    "    probability = 0.7\n",
    "    return random.random() < probability\n",
    "    "
   ]
  },
  {
   "cell_type": "code",
   "execution_count": 38,
   "id": "b9b002dd",
   "metadata": {},
   "outputs": [],
   "source": [
    "import random\n",
    "import math\n",
    "import numpy as np\n",
    "\n",
    "class MAB:\n",
    "    def __init__(self, n_arms, epsilon=0.3):\n",
    "        self.n_arms = n_arms  # Number of arms\n",
    "        self.epsilon = epsilon  # Exploration rate\n",
    "        self.arm_counts = np.zeros(n_arms)  # Count of pulls for each arm\n",
    "        self.arm_loss = np.zeros(n_arms)  # Total loss for each arm\n",
    "\n",
    "    def select_arm(self):\n",
    "        \"\"\"Selects an arm based on the ε-greedy strategy.\"\"\"\n",
    "        if np.random.rand() < self.epsilon:  # Explore\n",
    "            chosen_arm = np.random.randint(self.n_arms)\n",
    "            print(f\"Exploring: Selected arm {chosen_arm}\")\n",
    "        else:  # Exploit\n",
    "            # Select the arm with the minimum average loss\n",
    "            avg_losses = self.arm_loss / (self.arm_counts + 1e-5)  # Adding a small value to avoid division by zero\n",
    "            chosen_arm = np.argmin(avg_losses)\n",
    "            print(f\"Exploiting: Selected arm {chosen_arm} with min avg loss\")\n",
    "        return chosen_arm\n",
    "\n",
    "    def update(self, chosen_arm, loss):\n",
    "        \"\"\"Updates the estimated losses and counts for the chosen arm.\"\"\"\n",
    "        self.arm_counts[chosen_arm] += 1\n",
    "        self.arm_loss[chosen_arm] += loss\n",
    "        print(f\"Updated losses for arm {chosen_arm}: Total loss = {self.arm_loss[chosen_arm]}, Pull count = {self.arm_counts[chosen_arm]}\")\n",
    "\n",
    "        \n",
    "class Node:\n",
    "    def __init__(self, id, arms, q):\n",
    "        self.id = id\n",
    "        self.mab = MAB(q, arms)  # Initialize MAB with arms corresponding to incoming edges\n",
    "        self.path_from_root = []\n",
    "\n",
    "    def select_edge(self):\n",
    "        \"\"\"Selects an incoming edge based on the MAB algorithm.\"\"\"\n",
    "        return self.mab.select_arm()\n",
    "\n",
    "    def update_mab(self, chosen_arm, reward):\n",
    "        \"\"\"Updates the MAB based on the outcome of the chosen edge.\"\"\"\n",
    "        self.mab.update(chosen_arm, reward)    \n",
    "        \n",
    "        \n",
    "\n",
    "def generate_spanning_tree_W(nodes):\n",
    "    spanning_tree = set()\n",
    "    for node in nodes:\n",
    "        selected_edge = node.select_edge()\n",
    "        spanning_tree.add(selected_edge)\n",
    "    return spanning_tree\n",
    "    \n",
    "\n",
    "def exploration_step(nodes, current_phase, q, s, r):\n",
    "    \n",
    "    # select a random node v\n",
    "    v = random.choice(nodes)\n",
    "    \n",
    "    # we build the path from s to r by getting P(Wτi , v) then we select any path to reach r\n",
    "    path_s_to_v = v.path_from_root\n",
    "    # path_v_to_r = generate_path_v_to_r(v, r)\n",
    "    \n",
    "    Bcost = 0 if is_path_operational(path_s_to_v) else 1\n",
    "    \n",
    "    current_phase['time_steps'][v.id].append(Bcost)\n",
    "    \n",
    "def exploitation_step(nodes, current_phase, s, r):\n",
    "    path_s_to_r = r.path_from_root\n",
    "\n",
    "\n",
    "def generate_path_from_root(spanning_tree, node):\n",
    "    parent_mapping = {}\n",
    "    for parent, child in spanning_tree:\n",
    "        parent_mapping[child] = parent\n",
    "\n",
    "    path = deque()  \n",
    "\n",
    "    # Trace back from the target node to the root using the parent mapping\n",
    "    current_node = node.id\n",
    "    while current_node in parent_mapping:\n",
    "        parent = parent_mapping[current_node]\n",
    "        path.appendleft((parent, current_node))  # Append to the left side of the deque\n",
    "        current_node = parent\n",
    "\n",
    "    return list(path) \n",
    "    \n",
    "\n",
    "def simulate_phase(nodes, q, s, r, lambda_phase_length):\n",
    "    \n",
    "    # Beginning of a phase, each phase is characterized by a spanning tree and a \n",
    "    current_phase = {'spanning_tree': generate_spanning_tree_W(nodes), 'time_steps': {}}\n",
    "    # Generating for every node in the current phase the path to origin P(W_tau_i, v)\n",
    "    for node in nodes:\n",
    "        node.path_from_root = generate_path_from_root(node, current_phase)\n",
    "    \n",
    "    # During a phase we do exploration and exploitation\n",
    "    for t in range(lambda_phase_length):\n",
    "        if random.random() < q:\n",
    "            exploration_step(nodes, current_phase, q, s, r)\n",
    "        else:\n",
    "            exploitation_step(nodes, current_phase, s, r)\n",
    "    \n",
    "    # End of phase\n",
    "    for node in nodes:\n",
    "        selected_time_step = random.choice(current_phase['time_steps'][node.id])\n",
    "        node.update_mab(node.path_from_root[-1], selected_time_step)\n",
    "            \n",
    "    return current_phase\n",
    "    \n",
    "\n",
    "\n",
    "def E2EA_algorithm(G_prime, q, s, r, T):\n",
    "    V_prime, E_prime = G_prime\n",
    "    n = len(V_prime)\n",
    "    lambda_phase_length = int((n / q) * math.log(n))\n",
    "    \n",
    "    # initialize the MAB of the nodes\n",
    "    nodes = []\n",
    "    nodes_incoming_edges = assign_incoming_edges(G_prime) # generate a dictionary with the incoming edge of each node\n",
    "    for node_id in V_prime:\n",
    "        node = Node(node_id, nodes_incoming_edges[node_id], q)\n",
    "        nodes.append(node)\n",
    "    \n",
    "    \n",
    "    # run the phases of the algorithm\n",
    "    for _ in range(T // lambda_phase_length):\n",
    "        simulate_phase(nodes, q, s, r)\n",
    "    return"
   ]
  },
  {
   "cell_type": "code",
   "execution_count": null,
   "id": "d6da9855",
   "metadata": {},
   "outputs": [],
   "source": []
  }
 ],
 "metadata": {
  "kernelspec": {
   "display_name": "Python 3 (ipykernel)",
   "language": "python",
   "name": "python3"
  },
  "language_info": {
   "codemirror_mode": {
    "name": "ipython",
    "version": 3
   },
   "file_extension": ".py",
   "mimetype": "text/x-python",
   "name": "python",
   "nbconvert_exporter": "python",
   "pygments_lexer": "ipython3",
   "version": "3.9.13"
  }
 },
 "nbformat": 4,
 "nbformat_minor": 5
}
